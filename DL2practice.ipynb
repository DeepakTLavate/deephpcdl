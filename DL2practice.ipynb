{
 "cells": [
  {
   "cell_type": "code",
   "execution_count": 1,
   "id": "93f79300",
   "metadata": {},
   "outputs": [
    {
     "name": "stdout",
     "output_type": "stream",
     "text": [
      "Downloading data from https://storage.googleapis.com/tensorflow/tf-keras-datasets/imdb.npz\n",
      "17464789/17464789 [==============================] - 3s 0us/step\n"
     ]
    }
   ],
   "source": [
    "from keras.datasets import imdb\n",
    "(train_data,train_labels),(test_data,test_labels)=imdb.load_data(num_words=10000)"
   ]
  },
  {
   "cell_type": "code",
   "execution_count": 2,
   "id": "29a04e97",
   "metadata": {},
   "outputs": [
    {
     "name": "stdout",
     "output_type": "stream",
     "text": [
      "<class 'generator'>\n"
     ]
    },
    {
     "data": {
      "text/plain": [
       "9999"
      ]
     },
     "execution_count": 2,
     "metadata": {},
     "output_type": "execute_result"
    }
   ],
   "source": [
    "print(type(max(sequence) for sequence in train_data))\n",
    "max(max(sequence) for sequence in train_data)"
   ]
  },
  {
   "cell_type": "code",
   "execution_count": 13,
   "id": "4746e573",
   "metadata": {},
   "outputs": [],
   "source": [
    "import numpy as np   #imp code\n",
    "\n",
    "def vectorize_sequences(sequences,dimensions=10000):\n",
    "    results=np.zeros((len(sequences),dimensions))\n",
    "    for i,sequence in enumerate(sequences):\n",
    "        results[i,sequence]=1\n",
    "        \n",
    "    return results\n",
    "\n",
    "x_train=vectorize_sequences(train_data)\n",
    "x_test=vectorize_sequences(test_data)"
   ]
  },
  {
   "cell_type": "code",
   "execution_count": 14,
   "id": "0245cac0",
   "metadata": {},
   "outputs": [],
   "source": [
    "y_train=np.asarray(train_labels).astype('float32')\n",
    "y_test=np.asarray(test_labels).astype('float32')"
   ]
  },
  {
   "cell_type": "code",
   "execution_count": 15,
   "id": "021d9f1e",
   "metadata": {},
   "outputs": [],
   "source": [
    "#build neural network\n",
    "from keras.models import Sequential\n",
    "from keras.layers import Dense\n",
    "\n",
    "model=Sequential()\n",
    "\n",
    "model.add(Dense(16,input_shape=(10000,),activation='relu'))\n",
    "model.add(Dense(16,activation='relu'))\n",
    "model.add(Dense(1,activation='sigmoid'))"
   ]
  },
  {
   "cell_type": "code",
   "execution_count": 16,
   "id": "9002d5d6",
   "metadata": {},
   "outputs": [
    {
     "name": "stdout",
     "output_type": "stream",
     "text": [
      "Model: \"sequential\"\n",
      "_________________________________________________________________\n",
      " Layer (type)                Output Shape              Param #   \n",
      "=================================================================\n",
      " dense (Dense)               (None, 16)                160016    \n",
      "                                                                 \n",
      " dense_1 (Dense)             (None, 16)                272       \n",
      "                                                                 \n",
      " dense_2 (Dense)             (None, 1)                 17        \n",
      "                                                                 \n",
      "=================================================================\n",
      "Total params: 160,305\n",
      "Trainable params: 160,305\n",
      "Non-trainable params: 0\n",
      "_________________________________________________________________\n"
     ]
    }
   ],
   "source": [
    "model.compile(optimizer='adam',loss='mse',metrics=['accuracy'])\n",
    "model.summary()"
   ]
  },
  {
   "cell_type": "code",
   "execution_count": 18,
   "id": "8acb50b7",
   "metadata": {},
   "outputs": [
    {
     "name": "stdout",
     "output_type": "stream",
     "text": [
      "Epoch 1/20\n",
      "782/782 [==============================] - 5s 4ms/step - loss: 0.1002 - accuracy: 0.8666\n",
      "Epoch 2/20\n",
      "782/782 [==============================] - 4s 5ms/step - loss: 0.0564 - accuracy: 0.9278\n",
      "Epoch 3/20\n",
      "782/782 [==============================] - 4s 5ms/step - loss: 0.0422 - accuracy: 0.9476\n",
      "Epoch 4/20\n",
      "782/782 [==============================] - 4s 5ms/step - loss: 0.0310 - accuracy: 0.9634\n",
      "Epoch 5/20\n",
      "782/782 [==============================] - 4s 5ms/step - loss: 0.0236 - accuracy: 0.9731\n",
      "Epoch 6/20\n",
      "782/782 [==============================] - 4s 5ms/step - loss: 0.0181 - accuracy: 0.9803\n",
      "Epoch 7/20\n",
      "782/782 [==============================] - 4s 5ms/step - loss: 0.0141 - accuracy: 0.9852\n",
      "Epoch 8/20\n",
      "782/782 [==============================] - 4s 5ms/step - loss: 0.0131 - accuracy: 0.9857\n",
      "Epoch 9/20\n",
      "782/782 [==============================] - 4s 5ms/step - loss: 0.0125 - accuracy: 0.9861\n",
      "Epoch 10/20\n",
      "782/782 [==============================] - 4s 5ms/step - loss: 0.0117 - accuracy: 0.9871\n",
      "Epoch 11/20\n",
      "782/782 [==============================] - 4s 5ms/step - loss: 0.0098 - accuracy: 0.9895\n",
      "Epoch 12/20\n",
      "782/782 [==============================] - 4s 5ms/step - loss: 0.0090 - accuracy: 0.9906\n",
      "Epoch 13/20\n",
      "782/782 [==============================] - 4s 5ms/step - loss: 0.0087 - accuracy: 0.9909\n",
      "Epoch 14/20\n",
      "782/782 [==============================] - 4s 5ms/step - loss: 0.0078 - accuracy: 0.9918\n",
      "Epoch 15/20\n",
      "782/782 [==============================] - 4s 5ms/step - loss: 0.0081 - accuracy: 0.9913\n",
      "Epoch 16/20\n",
      "782/782 [==============================] - 4s 5ms/step - loss: 0.0076 - accuracy: 0.9922\n",
      "Epoch 17/20\n",
      "782/782 [==============================] - 4s 5ms/step - loss: 0.0080 - accuracy: 0.9916\n",
      "Epoch 18/20\n",
      "782/782 [==============================] - 4s 5ms/step - loss: 0.0073 - accuracy: 0.9925\n",
      "Epoch 19/20\n",
      "782/782 [==============================] - 4s 5ms/step - loss: 0.0077 - accuracy: 0.9918\n",
      "Epoch 20/20\n",
      "782/782 [==============================] - 4s 5ms/step - loss: 0.0068 - accuracy: 0.9930\n"
     ]
    }
   ],
   "source": [
    "history=model.fit(x_train,y_train,epochs=20,verbose=1)"
   ]
  },
  {
   "cell_type": "code",
   "execution_count": 19,
   "id": "6ac9853f",
   "metadata": {},
   "outputs": [
    {
     "name": "stdout",
     "output_type": "stream",
     "text": [
      "782/782 [==============================] - 2s 2ms/step - loss: 0.1293 - accuracy: 0.8587\n",
      "MSE :  0.12929852306842804\n",
      "MAE :  0.8587200045585632\n"
     ]
    }
   ],
   "source": [
    "mse,mae=model.evaluate(x_test,y_test)\n",
    "print('MSE : ',mse)\n",
    "print('MAE : ',mae)"
   ]
  },
  {
   "cell_type": "code",
   "execution_count": 20,
   "id": "8188a8bd",
   "metadata": {},
   "outputs": [
    {
     "name": "stdout",
     "output_type": "stream",
     "text": [
      "Downloading data from https://storage.googleapis.com/tensorflow/tf-keras-datasets/imdb_word_index.json\n",
      "1641221/1641221 [==============================] - 0s 0us/step\n"
     ]
    }
   ],
   "source": [
    "word_index=imdb.get_word_index()"
   ]
  },
  {
   "cell_type": "code",
   "execution_count": 22,
   "id": "2383535f",
   "metadata": {},
   "outputs": [],
   "source": [
    "def return_token(tid):\n",
    "    for k,v in word_index.items():\n",
    "        if v==tid-3:\n",
    "            return k\n",
    "    return '?'"
   ]
  },
  {
   "cell_type": "code",
   "execution_count": 26,
   "id": "f96c0256",
   "metadata": {},
   "outputs": [],
   "source": [
    "def print_review(id_):\n",
    "    sentence=' '.join(return_token(i) for i in train_data[id_])\n",
    "    return sentence"
   ]
  },
  {
   "cell_type": "code",
   "execution_count": 28,
   "id": "75b317ed",
   "metadata": {},
   "outputs": [
    {
     "data": {
      "text/plain": [
       "\"? this film was just brilliant casting location scenery story direction everyone's really suited the part they played and you could just imagine being there robert ? is an amazing actor and now the same being director ? father came from the same scottish island as myself so i loved the fact there was a real connection with this film the witty remarks throughout the film were great it was just brilliant so much that i bought the film as soon as it was released for ? and would recommend it to everyone to watch and the fly fishing was amazing really cried at the end it was so sad and you know what they say if you cry at a film it must have been good and this definitely was also ? to the two little boy's that played the ? of norman and paul they were just brilliant children are often left out of the ? list i think because the stars that play them all grown up are such a big profile for the whole film but these children are amazing and should be praised for what they have done don't you think the whole story was so lovely because it was true and was someone's life after all that was shared with us all\""
      ]
     },
     "execution_count": 28,
     "metadata": {},
     "output_type": "execute_result"
    }
   ],
   "source": [
    "print_review(0)"
   ]
  },
  {
   "cell_type": "code",
   "execution_count": 32,
   "id": "b72ba998",
   "metadata": {},
   "outputs": [
    {
     "data": {
      "text/plain": [
       "1"
      ]
     },
     "execution_count": 32,
     "metadata": {},
     "output_type": "execute_result"
    }
   ],
   "source": [
    "train_labels[0]"
   ]
  },
  {
   "cell_type": "code",
   "execution_count": 33,
   "id": "1d0ca0a6",
   "metadata": {},
   "outputs": [
    {
     "data": {
      "text/plain": [
       "'? ? clutter wife bonnie and their teenage children ? and nancy were much liked and respected in their tiny town of ? kansas but in the early hours of 14 november 1959 all four were brutally murdered rather unexpectedly the crime made an impression on author truman capote who rushed to the scene and followed the course of the case to its conclusion the result was the book in cold blood controversial shocking and exceptionally well written it became an international best ? and it remains a ? for crime writers to this day br br the 1967 film version of ? work is almost as remarkable as the book itself filmed in black and white in many of the real life locations it has a slightly documentary quality icy and detached and the overall cast is exceptional this is the film on which robert ? reputation as an actor rests and deservedly so as killer perry smith blake traps you between a profound ? and the shock of unexpected sympathy it is a masterful performance from start to finish as richard ? scott wilson is no less fine br br like ? book the film opens with smith and ? as they travel to kansas and brings them to the clutter home only to suddenly flash past the crime to detail the investigation that finally resulted in their arrest and conviction the ? of the film has always been the moment at which we at last see what occurred in the clutter home actually filmed in the clutter house itself it is a ? sequence horrific and deeply disturbing br br director and writer richard brooks ? the film with a very powerful sense of ? ? only in the sense that he allows the film to become slightly preachy given the overall power of the film however this becomes a trivial annoyance strong stuff and recommended br br ? amazon reviewer'"
      ]
     },
     "execution_count": 33,
     "metadata": {},
     "output_type": "execute_result"
    }
   ],
   "source": [
    "print_review(67)"
   ]
  },
  {
   "cell_type": "code",
   "execution_count": 34,
   "id": "88381374",
   "metadata": {},
   "outputs": [
    {
     "data": {
      "text/plain": [
       "1"
      ]
     },
     "execution_count": 34,
     "metadata": {},
     "output_type": "execute_result"
    }
   ],
   "source": [
    "train_labels[67]"
   ]
  },
  {
   "cell_type": "code",
   "execution_count": 35,
   "id": "ffef38ae",
   "metadata": {},
   "outputs": [
    {
     "data": {
      "text/plain": [
       "\"? this movie has many problem associated with it that makes it come off like a low budget class project from someone in film school i have to give it credit on its ? though many times throughout the movie i found myself laughing hysterically it was so bad at times that it was comical which made it a fun watch br br if you're looking for a low grade slasher movie with a twist of psychological horror and a dash of campy ? then pop a bowl of popcorn invite some friends over and have some fun br br i agree with other comments that the sound is very bad dialog is next to impossible to follow much of the time and the soundtrack is kind of just there\""
      ]
     },
     "execution_count": 35,
     "metadata": {},
     "output_type": "execute_result"
    }
   ],
   "source": [
    "print_review(9)"
   ]
  },
  {
   "cell_type": "code",
   "execution_count": 36,
   "id": "34a69c8d",
   "metadata": {},
   "outputs": [
    {
     "data": {
      "text/plain": [
       "0"
      ]
     },
     "execution_count": 36,
     "metadata": {},
     "output_type": "execute_result"
    }
   ],
   "source": [
    "train_labels[9]"
   ]
  },
  {
   "cell_type": "code",
   "execution_count": 37,
   "id": "75aae075",
   "metadata": {},
   "outputs": [
    {
     "name": "stdout",
     "output_type": "stream",
     "text": [
      "782/782 [==============================] - 2s 3ms/step\n"
     ]
    }
   ],
   "source": [
    "y_preds=model.predict(x_test)"
   ]
  },
  {
   "cell_type": "code",
   "execution_count": 38,
   "id": "1af7b5b6",
   "metadata": {},
   "outputs": [
    {
     "data": {
      "text/plain": [
       "array([[2.1255128e-04],\n",
       "       [1.0000000e+00],\n",
       "       [7.9117656e-01],\n",
       "       ...,\n",
       "       [3.5796866e-01],\n",
       "       [1.3151576e-07],\n",
       "       [3.1008658e-05]], dtype=float32)"
      ]
     },
     "execution_count": 38,
     "metadata": {},
     "output_type": "execute_result"
    }
   ],
   "source": [
    "y_preds"
   ]
  },
  {
   "cell_type": "code",
   "execution_count": 39,
   "id": "b62ebe16",
   "metadata": {},
   "outputs": [
    {
     "data": {
      "text/plain": [
       "array([0., 1., 1., ..., 0., 0., 0.], dtype=float32)"
      ]
     },
     "execution_count": 39,
     "metadata": {},
     "output_type": "execute_result"
    }
   ],
   "source": [
    "y_test"
   ]
  },
  {
   "cell_type": "code",
   "execution_count": 40,
   "id": "693c9047",
   "metadata": {},
   "outputs": [],
   "source": [
    "tests=[]\n",
    "for i in y_test:\n",
    "    tests.append(int(i))"
   ]
  },
  {
   "cell_type": "code",
   "execution_count": 41,
   "id": "ebc31cfb",
   "metadata": {},
   "outputs": [],
   "source": [
    "preds=[]\n",
    "for i in y_preds:\n",
    "    if i[0]>0.5:\n",
    "        preds.append(1)\n",
    "    else:\n",
    "        preds.append(0)"
   ]
  },
  {
   "cell_type": "code",
   "execution_count": 42,
   "id": "5a0480dc",
   "metadata": {},
   "outputs": [
    {
     "name": "stdout",
     "output_type": "stream",
     "text": [
      "Accuracy :  0.85872\n",
      "Recall :  0.85704\n",
      "Precision :  0.8599293626585327\n"
     ]
    }
   ],
   "source": [
    "from sklearn.metrics import accuracy_score,recall_score,precision_score\n",
    "\n",
    "print('Accuracy : ',accuracy_score(tests,preds))\n",
    "print('Recall : ',recall_score(tests,preds))\n",
    "print('Precision : ',precision_score(tests,preds))"
   ]
  }
 ],
 "metadata": {
  "kernelspec": {
   "display_name": "Python 3 (ipykernel)",
   "language": "python",
   "name": "python3"
  },
  "language_info": {
   "codemirror_mode": {
    "name": "ipython",
    "version": 3
   },
   "file_extension": ".py",
   "mimetype": "text/x-python",
   "name": "python",
   "nbconvert_exporter": "python",
   "pygments_lexer": "ipython3",
   "version": "3.9.0"
  }
 },
 "nbformat": 4,
 "nbformat_minor": 5
}
